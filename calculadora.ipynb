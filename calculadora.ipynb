{
  "nbformat": 4,
  "nbformat_minor": 0,
  "metadata": {
    "colab": {
      "provenance": [],
      "authorship_tag": "ABX9TyM9IAgVLC0cJojkL6xYEkEi",
      "include_colab_link": true
    },
    "kernelspec": {
      "name": "python3",
      "display_name": "Python 3"
    },
    "language_info": {
      "name": "python"
    }
  },
  "cells": [
    {
      "cell_type": "markdown",
      "metadata": {
        "id": "view-in-github",
        "colab_type": "text"
      },
      "source": [
        "<a href=\"https://colab.research.google.com/github/Lojinhadobryan/Camila-Ramos/blob/main/calculadora.ipynb\" target=\"_parent\"><img src=\"https://colab.research.google.com/assets/colab-badge.svg\" alt=\"Open In Colab\"/></a>"
      ]
    },
    {
      "cell_type": "code",
      "execution_count": 7,
      "metadata": {
        "colab": {
          "base_uri": "https://localhost:8080/"
        },
        "id": "EeGBE0yLt26p",
        "outputId": "3b9f875d-0c42-48d8-a06d-01d80e3cd0ba"
      },
      "outputs": [
        {
          "output_type": "stream",
          "name": "stdout",
          "text": [
            "Digite uma expressão matemática: 2+2\n",
            "O resultado é 4\n"
          ]
        }
      ],
      "source": [
        "expressao_matematica = input('Digite uma expressão matemática: ')\n",
        "resultado = eval(expressao_matematica);\n",
        "print('O resultado é', resultado)"
      ]
    }
  ]
}